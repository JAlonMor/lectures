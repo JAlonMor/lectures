{
 "cells": [
  {
   "cell_type": "markdown",
   "id": "b6eb8971",
   "metadata": {},
   "source": [
    "# Tecnologías de Almacenamiento\n",
    "\n",
    "## Tema 6. Apache Spark. Spark Streaming (1/2)\n",
    "Este notebook incluye el código de ejemplo del manual del módulo\n",
    "\n",
    "Usamos el contenedor jupyter/all-spark-notebook\n",
    "```\n",
    "docker run --name spark-stack -p 10000:8888 -p 4040:4040 jupyter/all-spark-notebook\n",
    "```\n",
    "\n",
    "Ejecutamos con el kernel de Scala: Spylon-kernel\n",
    "\n",
    "Antes de empezar creamos un socket en el puerto 9999 de nuestro contenedor:\n",
    "```\n",
    "docker exec -it spark-stack nc -l 9999\n",
    "```\n",
    "No mates el proceso, se quedará bloqueado el shell\n",
    "\n",
    "(acg)"
   ]
  },
  {
   "cell_type": "markdown",
   "id": "461a10fe",
   "metadata": {},
   "source": [
    "### 2.1 Structured Streaming"
   ]
  },
  {
   "cell_type": "code",
   "execution_count": 1,
   "id": "0859e068",
   "metadata": {},
   "outputs": [
    {
     "data": {
      "text/plain": [
       "Intitializing Scala interpreter ..."
      ]
     },
     "metadata": {},
     "output_type": "display_data"
    },
    {
     "data": {
      "text/plain": [
       "Spark Web UI available at http://16a66b851a51:4041\n",
       "SparkContext available as 'sc' (version = 3.2.0, master = local[*], app id = local-1636154005433)\n",
       "SparkSession available as 'spark'\n"
      ]
     },
     "metadata": {},
     "output_type": "display_data"
    },
    {
     "data": {
      "text/plain": [
       "import org.apache.spark.sql.Row\n",
       "import spark.implicits._\n"
      ]
     },
     "execution_count": 1,
     "metadata": {},
     "output_type": "execute_result"
    }
   ],
   "source": [
    "import org.apache.spark.sql.Row \n",
    "import spark.implicits._"
   ]
  },
  {
   "cell_type": "code",
   "execution_count": 3,
   "id": "5f425723",
   "metadata": {},
   "outputs": [
    {
     "data": {
      "text/plain": [
       "lineas: org.apache.spark.sql.DataFrame = [value: string]\n",
       "res1: Boolean = true\n"
      ]
     },
     "execution_count": 3,
     "metadata": {},
     "output_type": "execute_result"
    }
   ],
   "source": [
    "val lineas = spark.readStream\n",
    "                  .format(\"socket\")\n",
    "                  .option(\"host\", \"localhost\")\n",
    "                  .option(\"port\", 9999)\n",
    "                  .load() \n",
    "\n",
    "lineas.isStreaming"
   ]
  },
  {
   "cell_type": "code",
   "execution_count": 4,
   "id": "f8124a58",
   "metadata": {},
   "outputs": [
    {
     "name": "stdout",
     "output_type": "stream",
     "text": [
      "root\n",
      " |-- value: string (nullable = true)\n",
      "\n"
     ]
    }
   ],
   "source": [
    "lineas.printSchema"
   ]
  },
  {
   "cell_type": "code",
   "execution_count": 5,
   "id": "2924ec4d",
   "metadata": {},
   "outputs": [
    {
     "data": {
      "text/plain": [
       "palabras: org.apache.spark.sql.Dataset[String] = [value: string]\n",
       "numPalabras: org.apache.spark.sql.DataFrame = [value: string, count: bigint]\n"
      ]
     },
     "execution_count": 5,
     "metadata": {},
     "output_type": "execute_result"
    }
   ],
   "source": [
    "val palabras = lineas.as[String].flatMap(_.split(\" \"))\n",
    "\n",
    "val numPalabras = palabras.groupBy(\"value\").count()\n"
   ]
  },
  {
   "cell_type": "markdown",
   "id": "944999f6",
   "metadata": {},
   "source": [
    "La siguiente query se va a quedar escuchando (y refrescando resultados) durante 30 segundos (30000 msecs).\n",
    "\n",
    "Acuerdate de ir al shell donde lanzaste el netcat (nc) y escribir varias palabras:\n",
    "\n",
    "```\n",
    "(master_big_data) acg@MSI ~ $ docker exec -it spark-stack nc -l 9999\n",
    "Hola\n",
    "Hola otra vez\n",
    "donde esta la otra casa\n",
    "ve a casa\n",
    "\n",
    "```"
   ]
  },
  {
   "cell_type": "code",
   "execution_count": 19,
   "id": "17ae6e62",
   "metadata": {},
   "outputs": [
    {
     "name": "stdout",
     "output_type": "stream",
     "text": [
      "-------------------------------------------\n",
      "Batch: 0\n",
      "-------------------------------------------\n",
      "+-----+-----+\n",
      "|value|count|\n",
      "+-----+-----+\n",
      "+-----+-----+\n",
      "\n",
      "-------------------------------------------\n",
      "Batch: 1\n",
      "-------------------------------------------\n",
      "+-----+-----+\n",
      "|value|count|\n",
      "+-----+-----+\n",
      "| Hola|    1|\n",
      "+-----+-----+\n",
      "\n",
      "-------------------------------------------\n",
      "Batch: 2\n",
      "-------------------------------------------\n",
      "+-----+-----+\n",
      "|value|count|\n",
      "+-----+-----+\n",
      "| otra|    1|\n",
      "|  vez|    1|\n",
      "| Hola|    2|\n",
      "+-----+-----+\n",
      "\n",
      "-------------------------------------------\n",
      "Batch: 3\n",
      "-------------------------------------------\n",
      "+-----+-----+\n",
      "|value|count|\n",
      "+-----+-----+\n",
      "| otra|    2|\n",
      "| esta|    1|\n",
      "|donde|    1|\n",
      "| casa|    1|\n",
      "|   la|    1|\n",
      "+-----+-----+\n",
      "\n",
      "-------------------------------------------\n",
      "Batch: 4\n",
      "-------------------------------------------\n",
      "+-----+-----+\n",
      "|value|count|\n",
      "+-----+-----+\n",
      "|   ve|    1|\n",
      "| casa|    2|\n",
      "|    a|    1|\n",
      "+-----+-----+\n",
      "\n"
     ]
    },
    {
     "data": {
      "text/plain": [
       "query: org.apache.spark.sql.streaming.StreamingQuery = org.apache.spark.sql.execution.streaming.StreamingQueryWrapper@3893d39b\n",
       "res11: Boolean = false\n"
      ]
     },
     "execution_count": 19,
     "metadata": {},
     "output_type": "execute_result"
    }
   ],
   "source": [
    "val query = numPalabras.writeStream\n",
    "                       .outputMode(\"update\")\n",
    "                       .format(\"console\")\n",
    "                       .start() \n",
    "\n",
    "query.awaitTermination(30000)\n"
   ]
  },
  {
   "cell_type": "code",
   "execution_count": 20,
   "id": "35ee5f44",
   "metadata": {},
   "outputs": [],
   "source": [
    "query.stop()"
   ]
  },
  {
   "cell_type": "code",
   "execution_count": 21,
   "id": "4e1b5cf7",
   "metadata": {},
   "outputs": [
    {
     "data": {
      "text/plain": [
       "res7: Boolean = false\n"
      ]
     },
     "execution_count": 21,
     "metadata": {},
     "output_type": "execute_result"
    }
   ],
   "source": [
    "query.isActive"
   ]
  },
  {
   "cell_type": "code",
   "execution_count": null,
   "id": "893a03c1",
   "metadata": {},
   "outputs": [],
   "source": []
  },
  {
   "cell_type": "code",
   "execution_count": null,
   "id": "55e8017f",
   "metadata": {},
   "outputs": [],
   "source": []
  },
  {
   "cell_type": "code",
   "execution_count": null,
   "id": "89d809b4",
   "metadata": {},
   "outputs": [],
   "source": []
  },
  {
   "cell_type": "markdown",
   "id": "1be53e66",
   "metadata": {},
   "source": [
    "### 2.2 Ventanas de tiempo y watermark"
   ]
  },
  {
   "cell_type": "code",
   "execution_count": 9,
   "id": "d0d2653b",
   "metadata": {},
   "outputs": [
    {
     "data": {
      "text/plain": [
       "import java.sql.Timestamp\n",
       "import org.apache.spark.sql.Row\n",
       "import spark.implicits._\n",
       "lineas: org.apache.spark.sql.DataFrame = [value: string, timestamp: timestamp]\n"
      ]
     },
     "execution_count": 9,
     "metadata": {},
     "output_type": "execute_result"
    }
   ],
   "source": [
    "import java.sql.Timestamp \n",
    "import org.apache.spark.sql.Row \n",
    "import spark.implicits._\n",
    "\n",
    "val lineas = spark.readStream\n",
    "                  .format(\"socket\")\n",
    "                  .option(\"host\", \"localhost\")\n",
    "                  .option(\"port\", 9999)\n",
    "                  .option(\"includeTimestamp\", true)\n",
    "                  .load()\n"
   ]
  },
  {
   "cell_type": "code",
   "execution_count": 10,
   "id": "7acbf9ea",
   "metadata": {},
   "outputs": [
    {
     "data": {
      "text/plain": [
       "palabras: org.apache.spark.sql.DataFrame = [palabra: string, timestamp: timestamp]\n"
      ]
     },
     "execution_count": 10,
     "metadata": {},
     "output_type": "execute_result"
    }
   ],
   "source": [
    "val palabras = lineas.as[(String, Timestamp)].flatMap(line =>\n",
    "                                                        line._1.split(\" \").map(word => (word, line._2))\n",
    "                                                      ).toDF(\"palabra\", \"timestamp\")\n"
   ]
  },
  {
   "cell_type": "code",
   "execution_count": 11,
   "id": "63bdff32",
   "metadata": {},
   "outputs": [
    {
     "data": {
      "text/plain": [
       "windowedCounts: org.apache.spark.sql.DataFrame = [window: struct<start: timestamp, end: timestamp>, palabra: string ... 1 more field]\n"
      ]
     },
     "execution_count": 11,
     "metadata": {},
     "output_type": "execute_result"
    }
   ],
   "source": [
    "val windowedCounts = palabras.groupBy(window($\"timestamp\", \"10 seconds\", \"5 seconds\"), $\"palabra\")\n",
    "                             .count()\n"
   ]
  },
  {
   "cell_type": "markdown",
   "id": "cf83f648",
   "metadata": {},
   "source": [
    "Después de ejecutar el siguiente bloque (que se quedara ejecutando), vuelve a ir a la ventana del netcat a escribir palabras para enviarlas como streams a la query:\n",
    "```\n",
    "(master_big_data) acg@MSI ~ $ docker exec -it spark-stack nc -l 9999\n",
    "Hola\n",
    "Como estas\n",
    "donde estan las llaves\n",
    "estan en el fondo del mar\n",
    "```"
   ]
  },
  {
   "cell_type": "code",
   "execution_count": 28,
   "id": "f3dc41b4",
   "metadata": {},
   "outputs": [
    {
     "name": "stdout",
     "output_type": "stream",
     "text": [
      "-------------------------------------------\n",
      "Batch: 0\n",
      "-------------------------------------------\n",
      "+------+-------+-----+\n",
      "|window|palabra|count|\n",
      "+------+-------+-----+\n",
      "+------+-------+-----+\n",
      "\n",
      "-------------------------------------------\n",
      "Batch: 1\n",
      "-------------------------------------------\n",
      "+------------------------------------------+-------+-----+\n",
      "|window                                    |palabra|count|\n",
      "+------------------------------------------+-------+-----+\n",
      "|{2021-11-05 23:03:30, 2021-11-05 23:03:40}|Hola   |1    |\n",
      "|{2021-11-05 23:03:35, 2021-11-05 23:03:45}|Hola   |1    |\n",
      "+------------------------------------------+-------+-----+\n",
      "\n",
      "-------------------------------------------\n",
      "Batch: 2\n",
      "-------------------------------------------\n",
      "+------------------------------------------+-------+-----+\n",
      "|window                                    |palabra|count|\n",
      "+------------------------------------------+-------+-----+\n",
      "|{2021-11-05 23:03:35, 2021-11-05 23:03:45}|Como   |1    |\n",
      "|{2021-11-05 23:03:30, 2021-11-05 23:03:40}|estas  |1    |\n",
      "|{2021-11-05 23:03:35, 2021-11-05 23:03:45}|estas  |1    |\n",
      "|{2021-11-05 23:03:30, 2021-11-05 23:03:40}|Como   |1    |\n",
      "+------------------------------------------+-------+-----+\n",
      "\n",
      "-------------------------------------------\n",
      "Batch: 3\n",
      "-------------------------------------------\n",
      "+------------------------------------------+-------+-----+\n",
      "|window                                    |palabra|count|\n",
      "+------------------------------------------+-------+-----+\n",
      "|{2021-11-05 23:03:40, 2021-11-05 23:03:50}|llaves |1    |\n",
      "|{2021-11-05 23:03:35, 2021-11-05 23:03:45}|estan  |1    |\n",
      "|{2021-11-05 23:03:40, 2021-11-05 23:03:50}|donde  |1    |\n",
      "|{2021-11-05 23:03:35, 2021-11-05 23:03:45}|llaves |1    |\n",
      "|{2021-11-05 23:03:40, 2021-11-05 23:03:50}|estan  |1    |\n",
      "|{2021-11-05 23:03:35, 2021-11-05 23:03:45}|donde  |1    |\n",
      "|{2021-11-05 23:03:40, 2021-11-05 23:03:50}|las    |1    |\n",
      "|{2021-11-05 23:03:35, 2021-11-05 23:03:45}|las    |1    |\n",
      "+------------------------------------------+-------+-----+\n",
      "\n",
      "-------------------------------------------\n",
      "Batch: 4\n",
      "-------------------------------------------\n",
      "+------------------------------------------+-------+-----+\n",
      "|window                                    |palabra|count|\n",
      "+------------------------------------------+-------+-----+\n",
      "|{2021-11-05 23:03:45, 2021-11-05 23:03:55}|mar    |1    |\n",
      "|{2021-11-05 23:03:45, 2021-11-05 23:03:55}|fondo  |1    |\n",
      "|{2021-11-05 23:03:40, 2021-11-05 23:03:50}|en     |1    |\n",
      "|{2021-11-05 23:03:45, 2021-11-05 23:03:55}|en     |1    |\n",
      "|{2021-11-05 23:03:40, 2021-11-05 23:03:50}|el     |1    |\n",
      "|{2021-11-05 23:03:40, 2021-11-05 23:03:50}|estan  |2    |\n",
      "|{2021-11-05 23:03:40, 2021-11-05 23:03:50}|mar    |1    |\n",
      "|{2021-11-05 23:03:40, 2021-11-05 23:03:50}|del    |1    |\n",
      "|{2021-11-05 23:03:45, 2021-11-05 23:03:55}|el     |1    |\n",
      "|{2021-11-05 23:03:40, 2021-11-05 23:03:50}|fondo  |1    |\n",
      "|{2021-11-05 23:03:45, 2021-11-05 23:03:55}|estan  |1    |\n",
      "|{2021-11-05 23:03:45, 2021-11-05 23:03:55}|del    |1    |\n",
      "+------------------------------------------+-------+-----+\n",
      "\n"
     ]
    },
    {
     "data": {
      "text/plain": [
       "query: org.apache.spark.sql.streaming.StreamingQuery = org.apache.spark.sql.execution.streaming.StreamingQueryWrapper@7ea2977f\n",
       "res15: Boolean = false\n"
      ]
     },
     "execution_count": 28,
     "metadata": {},
     "output_type": "execute_result"
    }
   ],
   "source": [
    "val query = windowedCounts.writeStream\n",
    "                          .outputMode(\"update\")\n",
    "                          .option(\"truncate\", false)\n",
    "                          .format(\"console\")\n",
    "                          .start()\n",
    "\n",
    "query.awaitTermination(60000)"
   ]
  },
  {
   "cell_type": "markdown",
   "id": "7e910ac6",
   "metadata": {},
   "source": [
    "#### watermarking"
   ]
  },
  {
   "cell_type": "code",
   "execution_count": 12,
   "id": "fc11b85b",
   "metadata": {},
   "outputs": [
    {
     "data": {
      "text/plain": [
       "windowedCounts: org.apache.spark.sql.DataFrame = [window: struct<start: timestamp, end: timestamp>, palabra: string ... 1 more field]\n"
      ]
     },
     "execution_count": 12,
     "metadata": {},
     "output_type": "execute_result"
    }
   ],
   "source": [
    "val windowedCounts = palabras.withWatermark(\"timestamp\", \"15 seconds\")\n",
    "                             .groupBy(window($\"timestamp\", \"10 seconds\", \"5 seconds\"),$\"palabra\")\n",
    "                             .count()\n"
   ]
  },
  {
   "cell_type": "markdown",
   "id": "776f5040",
   "metadata": {},
   "source": [
    "Recuerda de nuevo escribir palabras en el socket cuando ejecutes el siguiente bloque:\n",
    "```\n",
    "(master_big_data) acg@MSI ~ $ docker exec -it spark-stack nc -l 9999\n",
    "aaa\n",
    "bbb\n",
    "ccc\n",
    "bbb\n",
    "\n",
    "```"
   ]
  },
  {
   "cell_type": "code",
   "execution_count": 14,
   "id": "63102669",
   "metadata": {},
   "outputs": [
    {
     "data": {
      "text/plain": [
       "query: org.apache.spark.sql.streaming.StreamingQuery = org.apache.spark.sql.execution.streaming.StreamingQueryWrapper@3f639206\n",
       "res4: Boolean = false\n"
      ]
     },
     "execution_count": 14,
     "metadata": {},
     "output_type": "execute_result"
    },
    {
     "name": "stdout",
     "output_type": "stream",
     "text": [
      "-------------------------------------------\n",
      "Batch: 0\n",
      "-------------------------------------------\n",
      "+------+-------+-----+\n",
      "|window|palabra|count|\n",
      "+------+-------+-----+\n",
      "+------+-------+-----+\n",
      "\n",
      "-------------------------------------------\n",
      "Batch: 1\n",
      "-------------------------------------------\n",
      "+------------------------------------------+-------+-----+\n",
      "|window                                    |palabra|count|\n",
      "+------------------------------------------+-------+-----+\n",
      "|{2021-11-05 23:15:10, 2021-11-05 23:15:20}|ccc    |1    |\n",
      "|{2021-11-05 23:15:15, 2021-11-05 23:15:25}|aaa    |1    |\n",
      "|{2021-11-05 23:15:15, 2021-11-05 23:15:25}|ccc    |1    |\n",
      "|{2021-11-05 23:15:15, 2021-11-05 23:15:25}|bbb    |1    |\n",
      "|{2021-11-05 23:15:10, 2021-11-05 23:15:20}|bbb    |1    |\n",
      "|{2021-11-05 23:15:10, 2021-11-05 23:15:20}|aaa    |1    |\n",
      "+------------------------------------------+-------+-----+\n",
      "\n",
      "-------------------------------------------\n",
      "Batch: 2\n",
      "-------------------------------------------\n",
      "+------------------------------------------+-------+-----+\n",
      "|window                                    |palabra|count|\n",
      "+------------------------------------------+-------+-----+\n",
      "|{2021-11-05 23:15:15, 2021-11-05 23:15:25}|bbb    |2    |\n",
      "|{2021-11-05 23:15:10, 2021-11-05 23:15:20}|bbb    |2    |\n",
      "+------------------------------------------+-------+-----+\n",
      "\n",
      "-------------------------------------------\n",
      "Batch: 3\n",
      "-------------------------------------------\n",
      "+------+-------+-----+\n",
      "|window|palabra|count|\n",
      "+------+-------+-----+\n",
      "+------+-------+-----+\n",
      "\n"
     ]
    }
   ],
   "source": [
    "val query = windowedCounts.writeStream\n",
    "                          .outputMode(\"update\")\n",
    "                          .option(\"truncate\", false)\n",
    "                          .format(\"console\")\n",
    "                          .start() \n",
    "\n",
    "query.awaitTermination(1000)\n"
   ]
  },
  {
   "cell_type": "code",
   "execution_count": null,
   "id": "2e4d5c0d",
   "metadata": {},
   "outputs": [],
   "source": []
  },
  {
   "cell_type": "code",
   "execution_count": null,
   "id": "7dd7b000",
   "metadata": {},
   "outputs": [],
   "source": []
  }
 ],
 "metadata": {
  "kernelspec": {
   "display_name": "spylon-kernel",
   "language": "scala",
   "name": "spylon-kernel"
  },
  "language_info": {
   "codemirror_mode": "text/x-scala",
   "file_extension": ".scala",
   "help_links": [
    {
     "text": "MetaKernel Magics",
     "url": "https://metakernel.readthedocs.io/en/latest/source/README.html"
    }
   ],
   "mimetype": "text/x-scala",
   "name": "scala",
   "pygments_lexer": "scala",
   "version": "0.4.1"
  }
 },
 "nbformat": 4,
 "nbformat_minor": 5
}
